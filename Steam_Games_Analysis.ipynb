{
  "nbformat": 4,
  "nbformat_minor": 0,
  "metadata": {
    "colab": {
      "provenance": []
    },
    "kernelspec": {
      "name": "python3",
      "display_name": "Python 3"
    },
    "language_info": {
      "name": "python"
    }
  },
  "cells": [
    {
      "cell_type": "markdown",
      "source": [
        "# **Objective**"
      ],
      "metadata": {
        "id": "uanBKwIOcUSA"
      }
    },
    {
      "cell_type": "markdown",
      "source": [
        "This project aims to analyze factors contributing to the success of video games by exploring key metrics such as player reviews, pricing, and genre. Success will be evaluated based on player engagement and review scores, helping us identify trends and actionable insights in the gaming industry."
      ],
      "metadata": {
        "id": "7pqJwVlZiCdG"
      }
    },
    {
      "cell_type": "markdown",
      "source": [
        "## **Key Business Questions:**"
      ],
      "metadata": {
        "id": "y4DgCboaiaVB"
      }
    },
    {
      "cell_type": "markdown",
      "source": [
        "\n",
        "\n",
        "1.   **Key Drivers of Success:**\n",
        "    * What are the primary factors (e.g., genre, price, release year) influencing a game's success in terms of player reviews and popularity?\n",
        "2.   **Pricing Analysis:**\n",
        "    * How does game pricing impact player reviews and overall popularity?\n",
        "3.   **Genre Insights:**\n",
        "    * Which genres are most popular or have the highest average reviews?\n",
        "4.   **Trend Analysis:**\n",
        "    * What are the trends in game popularity and pricing over time?"
      ],
      "metadata": {
        "id": "SU9vdA_CiiD-"
      }
    },
    {
      "cell_type": "markdown",
      "source": [
        "The analysis will focus on providing actionable insights for developers, publishers, and stakeholders in the gaming industry to better understand consumer behavior and optimize game development and marketing strategies.\n"
      ],
      "metadata": {
        "id": "2mQBULBqxHPI"
      }
    },
    {
      "cell_type": "markdown",
      "source": [
        "# **Background & Prior Work**"
      ],
      "metadata": {
        "id": "p_z7TMfYxQsk"
      }
    },
    {
      "cell_type": "markdown",
      "source": [
        "## **Context**"
      ],
      "metadata": {
        "id": "YXHjVVsxx703"
      }
    },
    {
      "cell_type": "markdown",
      "source": [
        "The video game industry has grown exponentially over the years, with platforms like Steam offering thousands of games across various genres. Players rely heavily on reviews, pricing, and other game attributes to make purchase decisions. This project will explore a dataset of Steam games to uncover trends and factors associated with a game's success."
      ],
      "metadata": {
        "id": "DOoTLtZryCO1"
      }
    },
    {
      "cell_type": "markdown",
      "source": [
        "While existing research provides valuable insights, this project will offer a focused analysis of Steam's dataset, emphasizing:\n",
        "* Detailed genre-specific insights.\n",
        "* The relationship between pricing and user reviews.\n",
        "* Temporal trends in game popularity and pricing.\n",
        "\n",
        "This analysis aims to provide actionable insights for developers, publishers, and stakeholders to better understand consumer behavior and optimize strategies in the gaming industry."
      ],
      "metadata": {
        "id": "xbeptRvU1M33"
      }
    },
    {
      "cell_type": "markdown",
      "source": [
        "## **Existing Research**"
      ],
      "metadata": {
        "id": "YeM_0VVNyESR"
      }
    },
    {
      "cell_type": "markdown",
      "source": [
        "1. **Genre Popularity:**\n",
        "   * Action and shooter games have consistently ranked among the most popular genres. [[1]](https://https://www.statista.com/statistics/1263585/top-video-game-genres-worldwide-by-age/)\n",
        "   * Role-playing games (RPGs) also maintain a significant share of the market, appealing to players seeking immersive storytelling and character development. [[2]](https://retrostylegames.com/blog/video-game-genre-popularity-case-study/)\n",
        "\n",
        "2. **Impact of Pricing:**\n",
        "   * Pricing strategies can influence a game's reception. Discussions within the gaming community suggest that while a game's quality is paramount, its price point can affect players' perceptions and purchasing decisions. [[3]](https://epiloguegaming.com/should-a-games-price-affect-its-review-score/)\n",
        "\n",
        "3. **User Reviews:**\n",
        "   * Positive reviews are strongly correlated with increased game sales, creating a \"halo effect\" that boosts both immediate and long-term success. [[4]](https://www.blackflix.com/the-impact-of-reviews-on-gaming-sales)"
      ],
      "metadata": {
        "id": "Y6X7MLOdyOmI"
      }
    },
    {
      "cell_type": "markdown",
      "source": [
        "# **Dataset Overview**"
      ],
      "metadata": {
        "id": "p_H5bao41dpR"
      }
    },
    {
      "cell_type": "code",
      "source": [
        "# Import necessary libraries\n",
        "import pandas as pd\n",
        "import matplotlib.pyplot as plt\n",
        "import seaborn as sns\n",
        "import scipy.stats as stats\n",
        "from IPython.display import display"
      ],
      "metadata": {
        "id": "3yUqPL5tF0l7"
      },
      "execution_count": 68,
      "outputs": []
    },
    {
      "cell_type": "code",
      "source": [
        "# Load the dataset from local upload\n",
        "from google.colab import files\n",
        "uploaded = files.upload()"
      ],
      "metadata": {
        "colab": {
          "base_uri": "https://localhost:8080/",
          "height": 73
        },
        "id": "cBwU0z0D2BRp",
        "outputId": "c979e4a3-a0ea-493d-94d9-f729007e12a6"
      },
      "execution_count": 54,
      "outputs": [
        {
          "output_type": "display_data",
          "data": {
            "text/plain": [
              "<IPython.core.display.HTML object>"
            ],
            "text/html": [
              "\n",
              "     <input type=\"file\" id=\"files-410b2149-5797-432d-908d-a1ba81474552\" name=\"files[]\" multiple disabled\n",
              "        style=\"border:none\" />\n",
              "     <output id=\"result-410b2149-5797-432d-908d-a1ba81474552\">\n",
              "      Upload widget is only available when the cell has been executed in the\n",
              "      current browser session. Please rerun this cell to enable.\n",
              "      </output>\n",
              "      <script>// Copyright 2017 Google LLC\n",
              "//\n",
              "// Licensed under the Apache License, Version 2.0 (the \"License\");\n",
              "// you may not use this file except in compliance with the License.\n",
              "// You may obtain a copy of the License at\n",
              "//\n",
              "//      http://www.apache.org/licenses/LICENSE-2.0\n",
              "//\n",
              "// Unless required by applicable law or agreed to in writing, software\n",
              "// distributed under the License is distributed on an \"AS IS\" BASIS,\n",
              "// WITHOUT WARRANTIES OR CONDITIONS OF ANY KIND, either express or implied.\n",
              "// See the License for the specific language governing permissions and\n",
              "// limitations under the License.\n",
              "\n",
              "/**\n",
              " * @fileoverview Helpers for google.colab Python module.\n",
              " */\n",
              "(function(scope) {\n",
              "function span(text, styleAttributes = {}) {\n",
              "  const element = document.createElement('span');\n",
              "  element.textContent = text;\n",
              "  for (const key of Object.keys(styleAttributes)) {\n",
              "    element.style[key] = styleAttributes[key];\n",
              "  }\n",
              "  return element;\n",
              "}\n",
              "\n",
              "// Max number of bytes which will be uploaded at a time.\n",
              "const MAX_PAYLOAD_SIZE = 100 * 1024;\n",
              "\n",
              "function _uploadFiles(inputId, outputId) {\n",
              "  const steps = uploadFilesStep(inputId, outputId);\n",
              "  const outputElement = document.getElementById(outputId);\n",
              "  // Cache steps on the outputElement to make it available for the next call\n",
              "  // to uploadFilesContinue from Python.\n",
              "  outputElement.steps = steps;\n",
              "\n",
              "  return _uploadFilesContinue(outputId);\n",
              "}\n",
              "\n",
              "// This is roughly an async generator (not supported in the browser yet),\n",
              "// where there are multiple asynchronous steps and the Python side is going\n",
              "// to poll for completion of each step.\n",
              "// This uses a Promise to block the python side on completion of each step,\n",
              "// then passes the result of the previous step as the input to the next step.\n",
              "function _uploadFilesContinue(outputId) {\n",
              "  const outputElement = document.getElementById(outputId);\n",
              "  const steps = outputElement.steps;\n",
              "\n",
              "  const next = steps.next(outputElement.lastPromiseValue);\n",
              "  return Promise.resolve(next.value.promise).then((value) => {\n",
              "    // Cache the last promise value to make it available to the next\n",
              "    // step of the generator.\n",
              "    outputElement.lastPromiseValue = value;\n",
              "    return next.value.response;\n",
              "  });\n",
              "}\n",
              "\n",
              "/**\n",
              " * Generator function which is called between each async step of the upload\n",
              " * process.\n",
              " * @param {string} inputId Element ID of the input file picker element.\n",
              " * @param {string} outputId Element ID of the output display.\n",
              " * @return {!Iterable<!Object>} Iterable of next steps.\n",
              " */\n",
              "function* uploadFilesStep(inputId, outputId) {\n",
              "  const inputElement = document.getElementById(inputId);\n",
              "  inputElement.disabled = false;\n",
              "\n",
              "  const outputElement = document.getElementById(outputId);\n",
              "  outputElement.innerHTML = '';\n",
              "\n",
              "  const pickedPromise = new Promise((resolve) => {\n",
              "    inputElement.addEventListener('change', (e) => {\n",
              "      resolve(e.target.files);\n",
              "    });\n",
              "  });\n",
              "\n",
              "  const cancel = document.createElement('button');\n",
              "  inputElement.parentElement.appendChild(cancel);\n",
              "  cancel.textContent = 'Cancel upload';\n",
              "  const cancelPromise = new Promise((resolve) => {\n",
              "    cancel.onclick = () => {\n",
              "      resolve(null);\n",
              "    };\n",
              "  });\n",
              "\n",
              "  // Wait for the user to pick the files.\n",
              "  const files = yield {\n",
              "    promise: Promise.race([pickedPromise, cancelPromise]),\n",
              "    response: {\n",
              "      action: 'starting',\n",
              "    }\n",
              "  };\n",
              "\n",
              "  cancel.remove();\n",
              "\n",
              "  // Disable the input element since further picks are not allowed.\n",
              "  inputElement.disabled = true;\n",
              "\n",
              "  if (!files) {\n",
              "    return {\n",
              "      response: {\n",
              "        action: 'complete',\n",
              "      }\n",
              "    };\n",
              "  }\n",
              "\n",
              "  for (const file of files) {\n",
              "    const li = document.createElement('li');\n",
              "    li.append(span(file.name, {fontWeight: 'bold'}));\n",
              "    li.append(span(\n",
              "        `(${file.type || 'n/a'}) - ${file.size} bytes, ` +\n",
              "        `last modified: ${\n",
              "            file.lastModifiedDate ? file.lastModifiedDate.toLocaleDateString() :\n",
              "                                    'n/a'} - `));\n",
              "    const percent = span('0% done');\n",
              "    li.appendChild(percent);\n",
              "\n",
              "    outputElement.appendChild(li);\n",
              "\n",
              "    const fileDataPromise = new Promise((resolve) => {\n",
              "      const reader = new FileReader();\n",
              "      reader.onload = (e) => {\n",
              "        resolve(e.target.result);\n",
              "      };\n",
              "      reader.readAsArrayBuffer(file);\n",
              "    });\n",
              "    // Wait for the data to be ready.\n",
              "    let fileData = yield {\n",
              "      promise: fileDataPromise,\n",
              "      response: {\n",
              "        action: 'continue',\n",
              "      }\n",
              "    };\n",
              "\n",
              "    // Use a chunked sending to avoid message size limits. See b/62115660.\n",
              "    let position = 0;\n",
              "    do {\n",
              "      const length = Math.min(fileData.byteLength - position, MAX_PAYLOAD_SIZE);\n",
              "      const chunk = new Uint8Array(fileData, position, length);\n",
              "      position += length;\n",
              "\n",
              "      const base64 = btoa(String.fromCharCode.apply(null, chunk));\n",
              "      yield {\n",
              "        response: {\n",
              "          action: 'append',\n",
              "          file: file.name,\n",
              "          data: base64,\n",
              "        },\n",
              "      };\n",
              "\n",
              "      let percentDone = fileData.byteLength === 0 ?\n",
              "          100 :\n",
              "          Math.round((position / fileData.byteLength) * 100);\n",
              "      percent.textContent = `${percentDone}% done`;\n",
              "\n",
              "    } while (position < fileData.byteLength);\n",
              "  }\n",
              "\n",
              "  // All done.\n",
              "  yield {\n",
              "    response: {\n",
              "      action: 'complete',\n",
              "    }\n",
              "  };\n",
              "}\n",
              "\n",
              "scope.google = scope.google || {};\n",
              "scope.google.colab = scope.google.colab || {};\n",
              "scope.google.colab._files = {\n",
              "  _uploadFiles,\n",
              "  _uploadFilesContinue,\n",
              "};\n",
              "})(self);\n",
              "</script> "
            ]
          },
          "metadata": {}
        },
        {
          "output_type": "stream",
          "name": "stdout",
          "text": [
            "Saving steam_games.csv to steam_games (1).csv\n"
          ]
        }
      ]
    },
    {
      "cell_type": "code",
      "source": [
        "# Read the CSV file\n",
        "file_name = list(uploaded.keys())[0]\n",
        "data = pd.read_csv(file_name)\n",
        "\n",
        "# Display basic information about the dataset\n",
        "print(\"Dataset loaded successfully!\")\n",
        "print(\"Number of rows and columns:\", data.shape)\n",
        "print(\"\\nColumns in the dataset:\")\n",
        "print(data.columns)\n",
        "\n",
        "# Show the first 5 rows\n",
        "data.head()"
      ],
      "metadata": {
        "colab": {
          "base_uri": "https://localhost:8080/",
          "height": 531
        },
        "id": "vUCLlCV93Fa4",
        "outputId": "e756a9c8-027c-4774-a068-51b5aa06e49f"
      },
      "execution_count": 55,
      "outputs": [
        {
          "output_type": "stream",
          "name": "stdout",
          "text": [
            "Dataset loaded successfully!\n",
            "Number of rows and columns: (71429, 21)\n",
            "\n",
            "Columns in the dataset:\n",
            "Index(['steam_appid', 'name', 'developers', 'publishers', 'categories',\n",
            "       'genres', 'required_age', 'n_achievements', 'platforms', 'is_released',\n",
            "       'release_date', 'additional_content', 'total_reviews', 'total_positive',\n",
            "       'total_negative', 'review_score', 'review_score_desc',\n",
            "       'positive_percentual', 'metacritic', 'is_free', 'price_initial (USD)'],\n",
            "      dtype='object')\n"
          ]
        },
        {
          "output_type": "execute_result",
          "data": {
            "text/plain": [
              "   steam_appid                  name           developers  \\\n",
              "0      2719580              勇者の伝説の勇者             ['ぽけそう']   \n",
              "1      2719590         Light No Fire      ['Hello Games']   \n",
              "2      2719600  Lorhaven: Cursed War  ['GoldenGod Games']   \n",
              "3      2719610          PUIQ: Demons          ['Giammnn']   \n",
              "4      2719650        Project XSTING      ['Saucy Melon']   \n",
              "\n",
              "            publishers                                         categories  \\\n",
              "0             ['ぽけそう']                ['Single-player', 'Family Sharing']   \n",
              "1      ['Hello Games']  ['Single-player', 'Multi-player', 'Co-op', 'On...   \n",
              "2  ['GoldenGod Games']  ['Single-player', 'Multi-player', 'PvP', 'Shar...   \n",
              "3          ['Giammnn']  ['Single-player', 'Steam Achievements', 'Famil...   \n",
              "4      ['Saucy Melon']  ['Single-player', 'Steam Achievements', 'Steam...   \n",
              "\n",
              "                                          genres  required_age  \\\n",
              "0                            ['Casual', 'Indie']             0   \n",
              "1                        ['Action', 'Adventure']             0   \n",
              "2                            ['RPG', 'Strategy']             0   \n",
              "3           ['Action', 'Casual', 'Indie', 'RPG']             0   \n",
              "4  ['Action', 'Casual', 'Indie', 'Early Access']             0   \n",
              "\n",
              "   n_achievements           platforms  is_released  ... additional_content  \\\n",
              "0               0         ['windows']         True  ...                 []   \n",
              "1               0         ['windows']        False  ...                 []   \n",
              "2              32  ['windows', 'mac']         True  ...                 []   \n",
              "3              28         ['windows']         True  ...                 []   \n",
              "4              42         ['windows']         True  ...                 []   \n",
              "\n",
              "  total_reviews  total_positive  total_negative  review_score  \\\n",
              "0             0               0               0           0.0   \n",
              "1             0               0               0           0.0   \n",
              "2             9               8               1           0.0   \n",
              "3             0               0               0           0.0   \n",
              "4             9               9               0           0.0   \n",
              "\n",
              "   review_score_desc positive_percentual  metacritic  is_free  \\\n",
              "0    No user reviews                 0.0           0    False   \n",
              "1    No user reviews                 0.0           0    False   \n",
              "2     9 user reviews                88.9           0    False   \n",
              "3    No user reviews                 0.0           0    False   \n",
              "4     9 user reviews               100.0           0    False   \n",
              "\n",
              "   price_initial (USD)  \n",
              "0                 0.99  \n",
              "1                 0.00  \n",
              "2                 9.99  \n",
              "3                 2.99  \n",
              "4                 7.99  \n",
              "\n",
              "[5 rows x 21 columns]"
            ],
            "text/html": [
              "\n",
              "  <div id=\"df-f2ad2824-3663-41e6-a4b3-551492184d1b\" class=\"colab-df-container\">\n",
              "    <div>\n",
              "<style scoped>\n",
              "    .dataframe tbody tr th:only-of-type {\n",
              "        vertical-align: middle;\n",
              "    }\n",
              "\n",
              "    .dataframe tbody tr th {\n",
              "        vertical-align: top;\n",
              "    }\n",
              "\n",
              "    .dataframe thead th {\n",
              "        text-align: right;\n",
              "    }\n",
              "</style>\n",
              "<table border=\"1\" class=\"dataframe\">\n",
              "  <thead>\n",
              "    <tr style=\"text-align: right;\">\n",
              "      <th></th>\n",
              "      <th>steam_appid</th>\n",
              "      <th>name</th>\n",
              "      <th>developers</th>\n",
              "      <th>publishers</th>\n",
              "      <th>categories</th>\n",
              "      <th>genres</th>\n",
              "      <th>required_age</th>\n",
              "      <th>n_achievements</th>\n",
              "      <th>platforms</th>\n",
              "      <th>is_released</th>\n",
              "      <th>...</th>\n",
              "      <th>additional_content</th>\n",
              "      <th>total_reviews</th>\n",
              "      <th>total_positive</th>\n",
              "      <th>total_negative</th>\n",
              "      <th>review_score</th>\n",
              "      <th>review_score_desc</th>\n",
              "      <th>positive_percentual</th>\n",
              "      <th>metacritic</th>\n",
              "      <th>is_free</th>\n",
              "      <th>price_initial (USD)</th>\n",
              "    </tr>\n",
              "  </thead>\n",
              "  <tbody>\n",
              "    <tr>\n",
              "      <th>0</th>\n",
              "      <td>2719580</td>\n",
              "      <td>勇者の伝説の勇者</td>\n",
              "      <td>['ぽけそう']</td>\n",
              "      <td>['ぽけそう']</td>\n",
              "      <td>['Single-player', 'Family Sharing']</td>\n",
              "      <td>['Casual', 'Indie']</td>\n",
              "      <td>0</td>\n",
              "      <td>0</td>\n",
              "      <td>['windows']</td>\n",
              "      <td>True</td>\n",
              "      <td>...</td>\n",
              "      <td>[]</td>\n",
              "      <td>0</td>\n",
              "      <td>0</td>\n",
              "      <td>0</td>\n",
              "      <td>0.0</td>\n",
              "      <td>No user reviews</td>\n",
              "      <td>0.0</td>\n",
              "      <td>0</td>\n",
              "      <td>False</td>\n",
              "      <td>0.99</td>\n",
              "    </tr>\n",
              "    <tr>\n",
              "      <th>1</th>\n",
              "      <td>2719590</td>\n",
              "      <td>Light No Fire</td>\n",
              "      <td>['Hello Games']</td>\n",
              "      <td>['Hello Games']</td>\n",
              "      <td>['Single-player', 'Multi-player', 'Co-op', 'On...</td>\n",
              "      <td>['Action', 'Adventure']</td>\n",
              "      <td>0</td>\n",
              "      <td>0</td>\n",
              "      <td>['windows']</td>\n",
              "      <td>False</td>\n",
              "      <td>...</td>\n",
              "      <td>[]</td>\n",
              "      <td>0</td>\n",
              "      <td>0</td>\n",
              "      <td>0</td>\n",
              "      <td>0.0</td>\n",
              "      <td>No user reviews</td>\n",
              "      <td>0.0</td>\n",
              "      <td>0</td>\n",
              "      <td>False</td>\n",
              "      <td>0.00</td>\n",
              "    </tr>\n",
              "    <tr>\n",
              "      <th>2</th>\n",
              "      <td>2719600</td>\n",
              "      <td>Lorhaven: Cursed War</td>\n",
              "      <td>['GoldenGod Games']</td>\n",
              "      <td>['GoldenGod Games']</td>\n",
              "      <td>['Single-player', 'Multi-player', 'PvP', 'Shar...</td>\n",
              "      <td>['RPG', 'Strategy']</td>\n",
              "      <td>0</td>\n",
              "      <td>32</td>\n",
              "      <td>['windows', 'mac']</td>\n",
              "      <td>True</td>\n",
              "      <td>...</td>\n",
              "      <td>[]</td>\n",
              "      <td>9</td>\n",
              "      <td>8</td>\n",
              "      <td>1</td>\n",
              "      <td>0.0</td>\n",
              "      <td>9 user reviews</td>\n",
              "      <td>88.9</td>\n",
              "      <td>0</td>\n",
              "      <td>False</td>\n",
              "      <td>9.99</td>\n",
              "    </tr>\n",
              "    <tr>\n",
              "      <th>3</th>\n",
              "      <td>2719610</td>\n",
              "      <td>PUIQ: Demons</td>\n",
              "      <td>['Giammnn']</td>\n",
              "      <td>['Giammnn']</td>\n",
              "      <td>['Single-player', 'Steam Achievements', 'Famil...</td>\n",
              "      <td>['Action', 'Casual', 'Indie', 'RPG']</td>\n",
              "      <td>0</td>\n",
              "      <td>28</td>\n",
              "      <td>['windows']</td>\n",
              "      <td>True</td>\n",
              "      <td>...</td>\n",
              "      <td>[]</td>\n",
              "      <td>0</td>\n",
              "      <td>0</td>\n",
              "      <td>0</td>\n",
              "      <td>0.0</td>\n",
              "      <td>No user reviews</td>\n",
              "      <td>0.0</td>\n",
              "      <td>0</td>\n",
              "      <td>False</td>\n",
              "      <td>2.99</td>\n",
              "    </tr>\n",
              "    <tr>\n",
              "      <th>4</th>\n",
              "      <td>2719650</td>\n",
              "      <td>Project XSTING</td>\n",
              "      <td>['Saucy Melon']</td>\n",
              "      <td>['Saucy Melon']</td>\n",
              "      <td>['Single-player', 'Steam Achievements', 'Steam...</td>\n",
              "      <td>['Action', 'Casual', 'Indie', 'Early Access']</td>\n",
              "      <td>0</td>\n",
              "      <td>42</td>\n",
              "      <td>['windows']</td>\n",
              "      <td>True</td>\n",
              "      <td>...</td>\n",
              "      <td>[]</td>\n",
              "      <td>9</td>\n",
              "      <td>9</td>\n",
              "      <td>0</td>\n",
              "      <td>0.0</td>\n",
              "      <td>9 user reviews</td>\n",
              "      <td>100.0</td>\n",
              "      <td>0</td>\n",
              "      <td>False</td>\n",
              "      <td>7.99</td>\n",
              "    </tr>\n",
              "  </tbody>\n",
              "</table>\n",
              "<p>5 rows × 21 columns</p>\n",
              "</div>\n",
              "    <div class=\"colab-df-buttons\">\n",
              "\n",
              "  <div class=\"colab-df-container\">\n",
              "    <button class=\"colab-df-convert\" onclick=\"convertToInteractive('df-f2ad2824-3663-41e6-a4b3-551492184d1b')\"\n",
              "            title=\"Convert this dataframe to an interactive table.\"\n",
              "            style=\"display:none;\">\n",
              "\n",
              "  <svg xmlns=\"http://www.w3.org/2000/svg\" height=\"24px\" viewBox=\"0 -960 960 960\">\n",
              "    <path d=\"M120-120v-720h720v720H120Zm60-500h600v-160H180v160Zm220 220h160v-160H400v160Zm0 220h160v-160H400v160ZM180-400h160v-160H180v160Zm440 0h160v-160H620v160ZM180-180h160v-160H180v160Zm440 0h160v-160H620v160Z\"/>\n",
              "  </svg>\n",
              "    </button>\n",
              "\n",
              "  <style>\n",
              "    .colab-df-container {\n",
              "      display:flex;\n",
              "      gap: 12px;\n",
              "    }\n",
              "\n",
              "    .colab-df-convert {\n",
              "      background-color: #E8F0FE;\n",
              "      border: none;\n",
              "      border-radius: 50%;\n",
              "      cursor: pointer;\n",
              "      display: none;\n",
              "      fill: #1967D2;\n",
              "      height: 32px;\n",
              "      padding: 0 0 0 0;\n",
              "      width: 32px;\n",
              "    }\n",
              "\n",
              "    .colab-df-convert:hover {\n",
              "      background-color: #E2EBFA;\n",
              "      box-shadow: 0px 1px 2px rgba(60, 64, 67, 0.3), 0px 1px 3px 1px rgba(60, 64, 67, 0.15);\n",
              "      fill: #174EA6;\n",
              "    }\n",
              "\n",
              "    .colab-df-buttons div {\n",
              "      margin-bottom: 4px;\n",
              "    }\n",
              "\n",
              "    [theme=dark] .colab-df-convert {\n",
              "      background-color: #3B4455;\n",
              "      fill: #D2E3FC;\n",
              "    }\n",
              "\n",
              "    [theme=dark] .colab-df-convert:hover {\n",
              "      background-color: #434B5C;\n",
              "      box-shadow: 0px 1px 3px 1px rgba(0, 0, 0, 0.15);\n",
              "      filter: drop-shadow(0px 1px 2px rgba(0, 0, 0, 0.3));\n",
              "      fill: #FFFFFF;\n",
              "    }\n",
              "  </style>\n",
              "\n",
              "    <script>\n",
              "      const buttonEl =\n",
              "        document.querySelector('#df-f2ad2824-3663-41e6-a4b3-551492184d1b button.colab-df-convert');\n",
              "      buttonEl.style.display =\n",
              "        google.colab.kernel.accessAllowed ? 'block' : 'none';\n",
              "\n",
              "      async function convertToInteractive(key) {\n",
              "        const element = document.querySelector('#df-f2ad2824-3663-41e6-a4b3-551492184d1b');\n",
              "        const dataTable =\n",
              "          await google.colab.kernel.invokeFunction('convertToInteractive',\n",
              "                                                    [key], {});\n",
              "        if (!dataTable) return;\n",
              "\n",
              "        const docLinkHtml = 'Like what you see? Visit the ' +\n",
              "          '<a target=\"_blank\" href=https://colab.research.google.com/notebooks/data_table.ipynb>data table notebook</a>'\n",
              "          + ' to learn more about interactive tables.';\n",
              "        element.innerHTML = '';\n",
              "        dataTable['output_type'] = 'display_data';\n",
              "        await google.colab.output.renderOutput(dataTable, element);\n",
              "        const docLink = document.createElement('div');\n",
              "        docLink.innerHTML = docLinkHtml;\n",
              "        element.appendChild(docLink);\n",
              "      }\n",
              "    </script>\n",
              "  </div>\n",
              "\n",
              "\n",
              "<div id=\"df-f613a589-07d8-4733-b7b7-21fbc2cf4b87\">\n",
              "  <button class=\"colab-df-quickchart\" onclick=\"quickchart('df-f613a589-07d8-4733-b7b7-21fbc2cf4b87')\"\n",
              "            title=\"Suggest charts\"\n",
              "            style=\"display:none;\">\n",
              "\n",
              "<svg xmlns=\"http://www.w3.org/2000/svg\" height=\"24px\"viewBox=\"0 0 24 24\"\n",
              "     width=\"24px\">\n",
              "    <g>\n",
              "        <path d=\"M19 3H5c-1.1 0-2 .9-2 2v14c0 1.1.9 2 2 2h14c1.1 0 2-.9 2-2V5c0-1.1-.9-2-2-2zM9 17H7v-7h2v7zm4 0h-2V7h2v10zm4 0h-2v-4h2v4z\"/>\n",
              "    </g>\n",
              "</svg>\n",
              "  </button>\n",
              "\n",
              "<style>\n",
              "  .colab-df-quickchart {\n",
              "      --bg-color: #E8F0FE;\n",
              "      --fill-color: #1967D2;\n",
              "      --hover-bg-color: #E2EBFA;\n",
              "      --hover-fill-color: #174EA6;\n",
              "      --disabled-fill-color: #AAA;\n",
              "      --disabled-bg-color: #DDD;\n",
              "  }\n",
              "\n",
              "  [theme=dark] .colab-df-quickchart {\n",
              "      --bg-color: #3B4455;\n",
              "      --fill-color: #D2E3FC;\n",
              "      --hover-bg-color: #434B5C;\n",
              "      --hover-fill-color: #FFFFFF;\n",
              "      --disabled-bg-color: #3B4455;\n",
              "      --disabled-fill-color: #666;\n",
              "  }\n",
              "\n",
              "  .colab-df-quickchart {\n",
              "    background-color: var(--bg-color);\n",
              "    border: none;\n",
              "    border-radius: 50%;\n",
              "    cursor: pointer;\n",
              "    display: none;\n",
              "    fill: var(--fill-color);\n",
              "    height: 32px;\n",
              "    padding: 0;\n",
              "    width: 32px;\n",
              "  }\n",
              "\n",
              "  .colab-df-quickchart:hover {\n",
              "    background-color: var(--hover-bg-color);\n",
              "    box-shadow: 0 1px 2px rgba(60, 64, 67, 0.3), 0 1px 3px 1px rgba(60, 64, 67, 0.15);\n",
              "    fill: var(--button-hover-fill-color);\n",
              "  }\n",
              "\n",
              "  .colab-df-quickchart-complete:disabled,\n",
              "  .colab-df-quickchart-complete:disabled:hover {\n",
              "    background-color: var(--disabled-bg-color);\n",
              "    fill: var(--disabled-fill-color);\n",
              "    box-shadow: none;\n",
              "  }\n",
              "\n",
              "  .colab-df-spinner {\n",
              "    border: 2px solid var(--fill-color);\n",
              "    border-color: transparent;\n",
              "    border-bottom-color: var(--fill-color);\n",
              "    animation:\n",
              "      spin 1s steps(1) infinite;\n",
              "  }\n",
              "\n",
              "  @keyframes spin {\n",
              "    0% {\n",
              "      border-color: transparent;\n",
              "      border-bottom-color: var(--fill-color);\n",
              "      border-left-color: var(--fill-color);\n",
              "    }\n",
              "    20% {\n",
              "      border-color: transparent;\n",
              "      border-left-color: var(--fill-color);\n",
              "      border-top-color: var(--fill-color);\n",
              "    }\n",
              "    30% {\n",
              "      border-color: transparent;\n",
              "      border-left-color: var(--fill-color);\n",
              "      border-top-color: var(--fill-color);\n",
              "      border-right-color: var(--fill-color);\n",
              "    }\n",
              "    40% {\n",
              "      border-color: transparent;\n",
              "      border-right-color: var(--fill-color);\n",
              "      border-top-color: var(--fill-color);\n",
              "    }\n",
              "    60% {\n",
              "      border-color: transparent;\n",
              "      border-right-color: var(--fill-color);\n",
              "    }\n",
              "    80% {\n",
              "      border-color: transparent;\n",
              "      border-right-color: var(--fill-color);\n",
              "      border-bottom-color: var(--fill-color);\n",
              "    }\n",
              "    90% {\n",
              "      border-color: transparent;\n",
              "      border-bottom-color: var(--fill-color);\n",
              "    }\n",
              "  }\n",
              "</style>\n",
              "\n",
              "  <script>\n",
              "    async function quickchart(key) {\n",
              "      const quickchartButtonEl =\n",
              "        document.querySelector('#' + key + ' button');\n",
              "      quickchartButtonEl.disabled = true;  // To prevent multiple clicks.\n",
              "      quickchartButtonEl.classList.add('colab-df-spinner');\n",
              "      try {\n",
              "        const charts = await google.colab.kernel.invokeFunction(\n",
              "            'suggestCharts', [key], {});\n",
              "      } catch (error) {\n",
              "        console.error('Error during call to suggestCharts:', error);\n",
              "      }\n",
              "      quickchartButtonEl.classList.remove('colab-df-spinner');\n",
              "      quickchartButtonEl.classList.add('colab-df-quickchart-complete');\n",
              "    }\n",
              "    (() => {\n",
              "      let quickchartButtonEl =\n",
              "        document.querySelector('#df-f613a589-07d8-4733-b7b7-21fbc2cf4b87 button');\n",
              "      quickchartButtonEl.style.display =\n",
              "        google.colab.kernel.accessAllowed ? 'block' : 'none';\n",
              "    })();\n",
              "  </script>\n",
              "</div>\n",
              "\n",
              "    </div>\n",
              "  </div>\n"
            ],
            "application/vnd.google.colaboratory.intrinsic+json": {
              "type": "dataframe",
              "variable_name": "data"
            }
          },
          "metadata": {},
          "execution_count": 55
        }
      ]
    },
    {
      "cell_type": "markdown",
      "source": [
        "The dataset provided, `steam_games.csv`, contains information on video games and their additional content available on the Steam platform. Each row represents a game, with columns capturing various attributes such as genre, pricing, and player reviews."
      ],
      "metadata": {
        "id": "olYRlG1p3JyT"
      }
    },
    {
      "cell_type": "markdown",
      "source": [
        "# **Research Question, Null Hypothesis (H₀), & Alternative Hypothesis (H₁)**"
      ],
      "metadata": {
        "id": "axyik_VR3r9d"
      }
    },
    {
      "cell_type": "markdown",
      "source": [
        "## **Research Question:**"
      ],
      "metadata": {
        "id": "rSZqWLA14R3C"
      }
    },
    {
      "cell_type": "markdown",
      "source": [
        "What are the primary factors (e.g., price, genre, release year) that contribute to the success of a video game on Steam?"
      ],
      "metadata": {
        "id": "QMawXzTg4YHt"
      }
    },
    {
      "cell_type": "markdown",
      "source": [
        "## **Hypotheses:**"
      ],
      "metadata": {
        "id": "ggdCF7kI4bK_"
      }
    },
    {
      "cell_type": "markdown",
      "source": [
        "1. **Price vs. Success:**\n",
        "   * **H₀ (Null Hypothesis):** There is no relationship between the price of a game and its user review score.\n",
        "   * **H₁ (Alternative Hypothesis):** There is a significant relationship between the price of a game and its user review score.\n",
        "2. Genre vs. Success:\n",
        "   * **H₀ (Null Hypothesis):** The genre of a game does not significantly impact its average user review score.\n",
        "   * **H₁ (Alternative Hypothesis):** The genre of a game significantly impacts its average user review score."
      ],
      "metadata": {
        "id": "JujLvXcu4eAJ"
      }
    },
    {
      "cell_type": "markdown",
      "source": [
        "# **Data Cleaning & Exploratory Data Analysis**"
      ],
      "metadata": {
        "id": "FC-SjU5q5rMx"
      }
    },
    {
      "cell_type": "markdown",
      "source": [
        "## **Data Cleaning**"
      ],
      "metadata": {
        "id": "oz8f5UxLWfV0"
      }
    },
    {
      "cell_type": "code",
      "source": [
        "# Handle missing values\n",
        "missing_values = data.isnull().sum()\n",
        "print(\"\\nMissing Values in Each Column:\")\n",
        "print(missing_values)\n",
        "\n",
        "# Drop duplicates if any\n",
        "data = data.drop_duplicates()\n",
        "print(f\"\\nDataset shape after removing duplicates: {data.shape}\")\n",
        "\n",
        "# Check for any obvious data type issues\n",
        "print(\"\\nColumn Data Types:\")\n",
        "print(data.dtypes)\n"
      ],
      "metadata": {
        "colab": {
          "base_uri": "https://localhost:8080/"
        },
        "id": "J0q25T3_Wn1w",
        "outputId": "0ef9d29e-cab8-49a8-e328-8b0fb08939b5"
      },
      "execution_count": 56,
      "outputs": [
        {
          "output_type": "stream",
          "name": "stdout",
          "text": [
            "\n",
            "Missing Values in Each Column:\n",
            "steam_appid            0\n",
            "name                   0\n",
            "developers             0\n",
            "publishers             0\n",
            "categories             0\n",
            "genres                 0\n",
            "required_age           0\n",
            "n_achievements         0\n",
            "platforms              0\n",
            "is_released            0\n",
            "release_date           0\n",
            "additional_content     0\n",
            "total_reviews          0\n",
            "total_positive         0\n",
            "total_negative         0\n",
            "review_score           0\n",
            "review_score_desc      0\n",
            "positive_percentual    0\n",
            "metacritic             0\n",
            "is_free                0\n",
            "price_initial (USD)    0\n",
            "dtype: int64\n",
            "\n",
            "Dataset shape after removing duplicates: (71429, 21)\n",
            "\n",
            "Column Data Types:\n",
            "steam_appid              int64\n",
            "name                    object\n",
            "developers              object\n",
            "publishers              object\n",
            "categories              object\n",
            "genres                  object\n",
            "required_age             int64\n",
            "n_achievements           int64\n",
            "platforms               object\n",
            "is_released               bool\n",
            "release_date            object\n",
            "additional_content      object\n",
            "total_reviews            int64\n",
            "total_positive           int64\n",
            "total_negative           int64\n",
            "review_score           float64\n",
            "review_score_desc       object\n",
            "positive_percentual    float64\n",
            "metacritic               int64\n",
            "is_free                   bool\n",
            "price_initial (USD)    float64\n",
            "dtype: object\n"
          ]
        }
      ]
    },
    {
      "cell_type": "code",
      "source": [
        "# Identify outliers using boxplot for 'price'\n",
        "plt.figure(figsize=(8, 5))\n",
        "data.boxplot(column='price_initial (USD)')\n",
        "plt.title('Boxplot of Game Prices')\n",
        "plt.show()"
      ],
      "metadata": {
        "colab": {
          "base_uri": "https://localhost:8080/",
          "height": 468
        },
        "id": "flGYp4l5XvHE",
        "outputId": "03a0c5c5-a844-4a8c-ceec-bf679c060cd1"
      },
      "execution_count": 57,
      "outputs": [
        {
          "output_type": "display_data",
          "data": {
            "text/plain": [
              "<Figure size 800x500 with 1 Axes>"
            ],
            "image/png": "[encoded data removed]"
          },
          "metadata": {}
        }
      ]
    },
    {
      "cell_type": "code",
      "source": [
        "# Extract the top 20 most expensive games\n",
        "high_price_games_sorted = data[data['price_initial (USD)'] > 100][['name', 'price_initial (USD)', 'genres', 'total_reviews']].sort_values(by='price_initial (USD)', ascending=False).head(20)\n",
        "\n",
        "\n",
        "display(high_price_games_sorted)"
      ],
      "metadata": {
        "colab": {
          "base_uri": "https://localhost:8080/",
          "height": 677
        },
        "id": "3GuZCCKga82g",
        "outputId": "6d02c750-d955-4165-b1f8-d1f727088964"
      },
      "execution_count": 58,
      "outputs": [
        {
          "output_type": "display_data",
          "data": {
            "text/plain": [
              "                                                name  price_initial (USD)  \\\n",
              "6979              The Leverage Game Business Edition               999.98   \n",
              "69053                          Aartform Curvy 3D 4.0               299.99   \n",
              "25764                          Aartform Curvy 3D 3.0               299.90   \n",
              "61603                                  Houdini Indie               269.99   \n",
              "53609                  3DF Zephyr Lite Steam Edition               249.00   \n",
              "495                       Hidden Western Top-Down 3D               199.99   \n",
              "56058                Save Giant Girl from monsters 2               199.99   \n",
              "49000                                     Destroy It               199.99   \n",
              "51168       VRemedies - Theatre Procedure Experience               199.99   \n",
              "51180           VRemedies - MRI Procedure Experience               199.99   \n",
              "51181  VRemedies - Radiotherapy Procedure Experience               199.99   \n",
              "51224            VRemedies - CT Procedure Experience               199.99   \n",
              "55527                    3D PUZZLE - Flooded Grounds               199.99   \n",
              "56934            Hidden Post-Apocalyptic Top-Down 3D               199.99   \n",
              "56132                  Archaeology - Post-Apocalypse               199.99   \n",
              "57106                                       I'm Rich               199.99   \n",
              "57819                                      Snowboard               199.99   \n",
              "57911                             3D PUZZLE - Hangar               199.99   \n",
              "57937                         3D PUZZLE - Hospital 1               199.99   \n",
              "57938                         3D PUZZLE - Hospital 2               199.99   \n",
              "\n",
              "                                                  genres  total_reviews  \n",
              "6979                             ['Indie', 'Simulation']              0  \n",
              "69053  ['Animation & Modeling', 'Design & Illustration']              6  \n",
              "25764                           ['Animation & Modeling']             27  \n",
              "61603  ['Animation & Modeling', 'Design & Illustratio...            125  \n",
              "53609  ['Animation & Modeling', 'Design & Illustratio...             37  \n",
              "495    ['Action', 'Adventure', 'Casual', 'Indie', 'Ra...              9  \n",
              "56058  ['Action', 'Adventure', 'Casual', 'Indie', 'Ra...              9  \n",
              "49000        ['Action', 'Casual', 'Indie', 'Simulation']              3  \n",
              "51168                                     ['Simulation']              0  \n",
              "51180                                     ['Simulation']              1  \n",
              "51181                                     ['Simulation']              0  \n",
              "51224                                     ['Simulation']              0  \n",
              "55527  ['Action', 'Adventure', 'Casual', 'Indie', 'Ra...              9  \n",
              "56934  ['Action', 'Adventure', 'Casual', 'Indie', 'Si...             10  \n",
              "56132  ['Action', 'Adventure', 'Casual', 'Indie', 'Ra...              9  \n",
              "57106                                     ['Simulation']              0  \n",
              "57819  ['Action', 'Casual', 'Indie', 'Simulation', 'S...              6  \n",
              "57911  ['Action', 'Adventure', 'Casual', 'Indie', 'Ra...              8  \n",
              "57937  ['Action', 'Adventure', 'Casual', 'Indie', 'Ra...             10  \n",
              "57938  ['Action', 'Adventure', 'Casual', 'Indie', 'Ra...              9  "
            ],
            "text/html": [
              "\n",
              "  <div id=\"df-5ec67da7-48ea-4e0b-bd20-146c26e7fafb\" class=\"colab-df-container\">\n",
              "    <div>\n",
              "<style scoped>\n",
              "    .dataframe tbody tr th:only-of-type {\n",
              "        vertical-align: middle;\n",
              "    }\n",
              "\n",
              "    .dataframe tbody tr th {\n",
              "        vertical-align: top;\n",
              "    }\n",
              "\n",
              "    .dataframe thead th {\n",
              "        text-align: right;\n",
              "    }\n",
              "</style>\n",
              "<table border=\"1\" class=\"dataframe\">\n",
              "  <thead>\n",
              "    <tr style=\"text-align: right;\">\n",
              "      <th></th>\n",
              "      <th>name</th>\n",
              "      <th>price_initial (USD)</th>\n",
              "      <th>genres</th>\n",
              "      <th>total_reviews</th>\n",
              "    </tr>\n",
              "  </thead>\n",
              "  <tbody>\n",
              "    <tr>\n",
              "      <th>6979</th>\n",
              "      <td>The Leverage Game Business Edition</td>\n",
              "      <td>999.98</td>\n",
              "      <td>['Indie', 'Simulation']</td>\n",
              "      <td>0</td>\n",
              "    </tr>\n",
              "    <tr>\n",
              "      <th>69053</th>\n",
              "      <td>Aartform Curvy 3D 4.0</td>\n",
              "      <td>299.99</td>\n",
              "      <td>['Animation &amp; Modeling', 'Design &amp; Illustration']</td>\n",
              "      <td>6</td>\n",
              "    </tr>\n",
              "    <tr>\n",
              "      <th>25764</th>\n",
              "      <td>Aartform Curvy 3D 3.0</td>\n",
              "      <td>299.90</td>\n",
              "      <td>['Animation &amp; Modeling']</td>\n",
              "      <td>27</td>\n",
              "    </tr>\n",
              "    <tr>\n",
              "      <th>61603</th>\n",
              "      <td>Houdini Indie</td>\n",
              "      <td>269.99</td>\n",
              "      <td>['Animation &amp; Modeling', 'Design &amp; Illustratio...</td>\n",
              "      <td>125</td>\n",
              "    </tr>\n",
              "    <tr>\n",
              "      <th>53609</th>\n",
              "      <td>3DF Zephyr Lite Steam Edition</td>\n",
              "      <td>249.00</td>\n",
              "      <td>['Animation &amp; Modeling', 'Design &amp; Illustratio...</td>\n",
              "      <td>37</td>\n",
              "    </tr>\n",
              "    <tr>\n",
              "      <th>495</th>\n",
              "      <td>Hidden Western Top-Down 3D</td>\n",
              "      <td>199.99</td>\n",
              "      <td>['Action', 'Adventure', 'Casual', 'Indie', 'Ra...</td>\n",
              "      <td>9</td>\n",
              "    </tr>\n",
              "    <tr>\n",
              "      <th>56058</th>\n",
              "      <td>Save Giant Girl from monsters 2</td>\n",
              "      <td>199.99</td>\n",
              "      <td>['Action', 'Adventure', 'Casual', 'Indie', 'Ra...</td>\n",
              "      <td>9</td>\n",
              "    </tr>\n",
              "    <tr>\n",
              "      <th>49000</th>\n",
              "      <td>Destroy It</td>\n",
              "      <td>199.99</td>\n",
              "      <td>['Action', 'Casual', 'Indie', 'Simulation']</td>\n",
              "      <td>3</td>\n",
              "    </tr>\n",
              "    <tr>\n",
              "      <th>51168</th>\n",
              "      <td>VRemedies - Theatre Procedure Experience</td>\n",
              "      <td>199.99</td>\n",
              "      <td>['Simulation']</td>\n",
              "      <td>0</td>\n",
              "    </tr>\n",
              "    <tr>\n",
              "      <th>51180</th>\n",
              "      <td>VRemedies - MRI Procedure Experience</td>\n",
              "      <td>199.99</td>\n",
              "      <td>['Simulation']</td>\n",
              "      <td>1</td>\n",
              "    </tr>\n",
              "    <tr>\n",
              "      <th>51181</th>\n",
              "      <td>VRemedies - Radiotherapy Procedure Experience</td>\n",
              "      <td>199.99</td>\n",
              "      <td>['Simulation']</td>\n",
              "      <td>0</td>\n",
              "    </tr>\n",
              "    <tr>\n",
              "      <th>51224</th>\n",
              "      <td>VRemedies - CT Procedure Experience</td>\n",
              "      <td>199.99</td>\n",
              "      <td>['Simulation']</td>\n",
              "      <td>0</td>\n",
              "    </tr>\n",
              "    <tr>\n",
              "      <th>55527</th>\n",
              "      <td>3D PUZZLE - Flooded Grounds</td>\n",
              "      <td>199.99</td>\n",
              "      <td>['Action', 'Adventure', 'Casual', 'Indie', 'Ra...</td>\n",
              "      <td>9</td>\n",
              "    </tr>\n",
              "    <tr>\n",
              "      <th>56934</th>\n",
              "      <td>Hidden Post-Apocalyptic Top-Down 3D</td>\n",
              "      <td>199.99</td>\n",
              "      <td>['Action', 'Adventure', 'Casual', 'Indie', 'Si...</td>\n",
              "      <td>10</td>\n",
              "    </tr>\n",
              "    <tr>\n",
              "      <th>56132</th>\n",
              "      <td>Archaeology - Post-Apocalypse</td>\n",
              "      <td>199.99</td>\n",
              "      <td>['Action', 'Adventure', 'Casual', 'Indie', 'Ra...</td>\n",
              "      <td>9</td>\n",
              "    </tr>\n",
              "    <tr>\n",
              "      <th>57106</th>\n",
              "      <td>I'm Rich</td>\n",
              "      <td>199.99</td>\n",
              "      <td>['Simulation']</td>\n",
              "      <td>0</td>\n",
              "    </tr>\n",
              "    <tr>\n",
              "      <th>57819</th>\n",
              "      <td>Snowboard</td>\n",
              "      <td>199.99</td>\n",
              "      <td>['Action', 'Casual', 'Indie', 'Simulation', 'S...</td>\n",
              "      <td>6</td>\n",
              "    </tr>\n",
              "    <tr>\n",
              "      <th>57911</th>\n",
              "      <td>3D PUZZLE - Hangar</td>\n",
              "      <td>199.99</td>\n",
              "      <td>['Action', 'Adventure', 'Casual', 'Indie', 'Ra...</td>\n",
              "      <td>8</td>\n",
              "    </tr>\n",
              "    <tr>\n",
              "      <th>57937</th>\n",
              "      <td>3D PUZZLE - Hospital 1</td>\n",
              "      <td>199.99</td>\n",
              "      <td>['Action', 'Adventure', 'Casual', 'Indie', 'Ra...</td>\n",
              "      <td>10</td>\n",
              "    </tr>\n",
              "    <tr>\n",
              "      <th>57938</th>\n",
              "      <td>3D PUZZLE - Hospital 2</td>\n",
              "      <td>199.99</td>\n",
              "      <td>['Action', 'Adventure', 'Casual', 'Indie', 'Ra...</td>\n",
              "      <td>9</td>\n",
              "    </tr>\n",
              "  </tbody>\n",
              "</table>\n",
              "</div>\n",
              "    <div class=\"colab-df-buttons\">\n",
              "\n",
              "  <div class=\"colab-df-container\">\n",
              "    <button class=\"colab-df-convert\" onclick=\"convertToInteractive('df-5ec67da7-48ea-4e0b-bd20-146c26e7fafb')\"\n",
              "            title=\"Convert this dataframe to an interactive table.\"\n",
              "            style=\"display:none;\">\n",
              "\n",
              "  <svg xmlns=\"http://www.w3.org/2000/svg\" height=\"24px\" viewBox=\"0 -960 960 960\">\n",
              "    <path d=\"M120-120v-720h720v720H120Zm60-500h600v-160H180v160Zm220 220h160v-160H400v160Zm0 220h160v-160H400v160ZM180-400h160v-160H180v160Zm440 0h160v-160H620v160ZM180-180h160v-160H180v160Zm440 0h160v-160H620v160Z\"/>\n",
              "  </svg>\n",
              "    </button>\n",
              "\n",
              "  <style>\n",
              "    .colab-df-container {\n",
              "      display:flex;\n",
              "      gap: 12px;\n",
              "    }\n",
              "\n",
              "    .colab-df-convert {\n",
              "      background-color: #E8F0FE;\n",
              "      border: none;\n",
              "      border-radius: 50%;\n",
              "      cursor: pointer;\n",
              "      display: none;\n",
              "      fill: #1967D2;\n",
              "      height: 32px;\n",
              "      padding: 0 0 0 0;\n",
              "      width: 32px;\n",
              "    }\n",
              "\n",
              "    .colab-df-convert:hover {\n",
              "      background-color: #E2EBFA;\n",
              "      box-shadow: 0px 1px 2px rgba(60, 64, 67, 0.3), 0px 1px 3px 1px rgba(60, 64, 67, 0.15);\n",
              "      fill: #174EA6;\n",
              "    }\n",
              "\n",
              "    .colab-df-buttons div {\n",
              "      margin-bottom: 4px;\n",
              "    }\n",
              "\n",
              "    [theme=dark] .colab-df-convert {\n",
              "      background-color: #3B4455;\n",
              "      fill: #D2E3FC;\n",
              "    }\n",
              "\n",
              "    [theme=dark] .colab-df-convert:hover {\n",
              "      background-color: #434B5C;\n",
              "      box-shadow: 0px 1px 3px 1px rgba(0, 0, 0, 0.15);\n",
              "      filter: drop-shadow(0px 1px 2px rgba(0, 0, 0, 0.3));\n",
              "      fill: #FFFFFF;\n",
              "    }\n",
              "  </style>\n",
              "\n",
              "    <script>\n",
              "      const buttonEl =\n",
              "        document.querySelector('#df-5ec67da7-48ea-4e0b-bd20-146c26e7fafb button.colab-df-convert');\n",
              "      buttonEl.style.display =\n",
              "        google.colab.kernel.accessAllowed ? 'block' : 'none';\n",
              "\n",
              "      async function convertToInteractive(key) {\n",
              "        const element = document.querySelector('#df-5ec67da7-48ea-4e0b-bd20-146c26e7fafb');\n",
              "        const dataTable =\n",
              "          await google.colab.kernel.invokeFunction('convertToInteractive',\n",
              "                                                    [key], {});\n",
              "        if (!dataTable) return;\n",
              "\n",
              "        const docLinkHtml = 'Like what you see? Visit the ' +\n",
              "          '<a target=\"_blank\" href=https://colab.research.google.com/notebooks/data_table.ipynb>data table notebook</a>'\n",
              "          + ' to learn more about interactive tables.';\n",
              "        element.innerHTML = '';\n",
              "        dataTable['output_type'] = 'display_data';\n",
              "        await google.colab.output.renderOutput(dataTable, element);\n",
              "        const docLink = document.createElement('div');\n",
              "        docLink.innerHTML = docLinkHtml;\n",
              "        element.appendChild(docLink);\n",
              "      }\n",
              "    </script>\n",
              "  </div>\n",
              "\n",
              "\n",
              "<div id=\"df-0c6d2106-73bc-4bed-bfc6-cbecc3b46bb9\">\n",
              "  <button class=\"colab-df-quickchart\" onclick=\"quickchart('df-0c6d2106-73bc-4bed-bfc6-cbecc3b46bb9')\"\n",
              "            title=\"Suggest charts\"\n",
              "            style=\"display:none;\">\n",
              "\n",
              "<svg xmlns=\"http://www.w3.org/2000/svg\" height=\"24px\"viewBox=\"0 0 24 24\"\n",
              "     width=\"24px\">\n",
              "    <g>\n",
              "        <path d=\"M19 3H5c-1.1 0-2 .9-2 2v14c0 1.1.9 2 2 2h14c1.1 0 2-.9 2-2V5c0-1.1-.9-2-2-2zM9 17H7v-7h2v7zm4 0h-2V7h2v10zm4 0h-2v-4h2v4z\"/>\n",
              "    </g>\n",
              "</svg>\n",
              "  </button>\n",
              "\n",
              "<style>\n",
              "  .colab-df-quickchart {\n",
              "      --bg-color: #E8F0FE;\n",
              "      --fill-color: #1967D2;\n",
              "      --hover-bg-color: #E2EBFA;\n",
              "      --hover-fill-color: #174EA6;\n",
              "      --disabled-fill-color: #AAA;\n",
              "      --disabled-bg-color: #DDD;\n",
              "  }\n",
              "\n",
              "  [theme=dark] .colab-df-quickchart {\n",
              "      --bg-color: #3B4455;\n",
              "      --fill-color: #D2E3FC;\n",
              "      --hover-bg-color: #434B5C;\n",
              "      --hover-fill-color: #FFFFFF;\n",
              "      --disabled-bg-color: #3B4455;\n",
              "      --disabled-fill-color: #666;\n",
              "  }\n",
              "\n",
              "  .colab-df-quickchart {\n",
              "    background-color: var(--bg-color);\n",
              "    border: none;\n",
              "    border-radius: 50%;\n",
              "    cursor: pointer;\n",
              "    display: none;\n",
              "    fill: var(--fill-color);\n",
              "    height: 32px;\n",
              "    padding: 0;\n",
              "    width: 32px;\n",
              "  }\n",
              "\n",
              "  .colab-df-quickchart:hover {\n",
              "    background-color: var(--hover-bg-color);\n",
              "    box-shadow: 0 1px 2px rgba(60, 64, 67, 0.3), 0 1px 3px 1px rgba(60, 64, 67, 0.15);\n",
              "    fill: var(--button-hover-fill-color);\n",
              "  }\n",
              "\n",
              "  .colab-df-quickchart-complete:disabled,\n",
              "  .colab-df-quickchart-complete:disabled:hover {\n",
              "    background-color: var(--disabled-bg-color);\n",
              "    fill: var(--disabled-fill-color);\n",
              "    box-shadow: none;\n",
              "  }\n",
              "\n",
              "  .colab-df-spinner {\n",
              "    border: 2px solid var(--fill-color);\n",
              "    border-color: transparent;\n",
              "    border-bottom-color: var(--fill-color);\n",
              "    animation:\n",
              "      spin 1s steps(1) infinite;\n",
              "  }\n",
              "\n",
              "  @keyframes spin {\n",
              "    0% {\n",
              "      border-color: transparent;\n",
              "      border-bottom-color: var(--fill-color);\n",
              "      border-left-color: var(--fill-color);\n",
              "    }\n",
              "    20% {\n",
              "      border-color: transparent;\n",
              "      border-left-color: var(--fill-color);\n",
              "      border-top-color: var(--fill-color);\n",
              "    }\n",
              "    30% {\n",
              "      border-color: transparent;\n",
              "      border-left-color: var(--fill-color);\n",
              "      border-top-color: var(--fill-color);\n",
              "      border-right-color: var(--fill-color);\n",
              "    }\n",
              "    40% {\n",
              "      border-color: transparent;\n",
              "      border-right-color: var(--fill-color);\n",
              "      border-top-color: var(--fill-color);\n",
              "    }\n",
              "    60% {\n",
              "      border-color: transparent;\n",
              "      border-right-color: var(--fill-color);\n",
              "    }\n",
              "    80% {\n",
              "      border-color: transparent;\n",
              "      border-right-color: var(--fill-color);\n",
              "      border-bottom-color: var(--fill-color);\n",
              "    }\n",
              "    90% {\n",
              "      border-color: transparent;\n",
              "      border-bottom-color: var(--fill-color);\n",
              "    }\n",
              "  }\n",
              "</style>\n",
              "\n",
              "  <script>\n",
              "    async function quickchart(key) {\n",
              "      const quickchartButtonEl =\n",
              "        document.querySelector('#' + key + ' button');\n",
              "      quickchartButtonEl.disabled = true;  // To prevent multiple clicks.\n",
              "      quickchartButtonEl.classList.add('colab-df-spinner');\n",
              "      try {\n",
              "        const charts = await google.colab.kernel.invokeFunction(\n",
              "            'suggestCharts', [key], {});\n",
              "      } catch (error) {\n",
              "        console.error('Error during call to suggestCharts:', error);\n",
              "      }\n",
              "      quickchartButtonEl.classList.remove('colab-df-spinner');\n",
              "      quickchartButtonEl.classList.add('colab-df-quickchart-complete');\n",
              "    }\n",
              "    (() => {\n",
              "      let quickchartButtonEl =\n",
              "        document.querySelector('#df-0c6d2106-73bc-4bed-bfc6-cbecc3b46bb9 button');\n",
              "      quickchartButtonEl.style.display =\n",
              "        google.colab.kernel.accessAllowed ? 'block' : 'none';\n",
              "    })();\n",
              "  </script>\n",
              "</div>\n",
              "\n",
              "  <div id=\"id_82d1249b-ad16-4d1f-bd4d-fa5ce43cea05\">\n",
              "    <style>\n",
              "      .colab-df-generate {\n",
              "        background-color: #E8F0FE;\n",
              "        border: none;\n",
              "        border-radius: 50%;\n",
              "        cursor: pointer;\n",
              "        display: none;\n",
              "        fill: #1967D2;\n",
              "        height: 32px;\n",
              "        padding: 0 0 0 0;\n",
              "        width: 32px;\n",
              "      }\n",
              "\n",
              "      .colab-df-generate:hover {\n",
              "        background-color: #E2EBFA;\n",
              "        box-shadow: 0px 1px 2px rgba(60, 64, 67, 0.3), 0px 1px 3px 1px rgba(60, 64, 67, 0.15);\n",
              "        fill: #174EA6;\n",
              "      }\n",
              "\n",
              "      [theme=dark] .colab-df-generate {\n",
              "        background-color: #3B4455;\n",
              "        fill: #D2E3FC;\n",
              "      }\n",
              "\n",
              "      [theme=dark] .colab-df-generate:hover {\n",
              "        background-color: #434B5C;\n",
              "        box-shadow: 0px 1px 3px 1px rgba(0, 0, 0, 0.15);\n",
              "        filter: drop-shadow(0px 1px 2px rgba(0, 0, 0, 0.3));\n",
              "        fill: #FFFFFF;\n",
              "      }\n",
              "    </style>\n",
              "    <button class=\"colab-df-generate\" onclick=\"generateWithVariable('high_price_games_sorted')\"\n",
              "            title=\"Generate code using this dataframe.\"\n",
              "            style=\"display:none;\">\n",
              "\n",
              "  <svg xmlns=\"http://www.w3.org/2000/svg\" height=\"24px\"viewBox=\"0 0 24 24\"\n",
              "       width=\"24px\">\n",
              "    <path d=\"M7,19H8.4L18.45,9,17,7.55,7,17.6ZM5,21V16.75L18.45,3.32a2,2,0,0,1,2.83,0l1.4,1.43a1.91,1.91,0,0,1,.58,1.4,1.91,1.91,0,0,1-.58,1.4L9.25,21ZM18.45,9,17,7.55Zm-12,3A5.31,5.31,0,0,0,4.9,8.1,5.31,5.31,0,0,0,1,6.5,5.31,5.31,0,0,0,4.9,4.9,5.31,5.31,0,0,0,6.5,1,5.31,5.31,0,0,0,8.1,4.9,5.31,5.31,0,0,0,12,6.5,5.46,5.46,0,0,0,6.5,12Z\"/>\n",
              "  </svg>\n",
              "    </button>\n",
              "    <script>\n",
              "      (() => {\n",
              "      const buttonEl =\n",
              "        document.querySelector('#id_82d1249b-ad16-4d1f-bd4d-fa5ce43cea05 button.colab-df-generate');\n",
              "      buttonEl.style.display =\n",
              "        google.colab.kernel.accessAllowed ? 'block' : 'none';\n",
              "\n",
              "      buttonEl.onclick = () => {\n",
              "        google.colab.notebook.generateWithVariable('high_price_games_sorted');\n",
              "      }\n",
              "      })();\n",
              "    </script>\n",
              "  </div>\n",
              "\n",
              "    </div>\n",
              "  </div>\n"
            ],
            "application/vnd.google.colaboratory.intrinsic+json": {
              "type": "dataframe",
              "variable_name": "high_price_games_sorted",
              "summary": "{\n  \"name\": \"high_price_games_sorted\",\n  \"rows\": 20,\n  \"fields\": [\n    {\n      \"column\": \"name\",\n      \"properties\": {\n        \"dtype\": \"string\",\n        \"num_unique_values\": 20,\n        \"samples\": [\n          \"The Leverage Game Business Edition\",\n          \"3D PUZZLE - Hangar\",\n          \"I'm Rich\"\n        ],\n        \"semantic_type\": \"\",\n        \"description\": \"\"\n      }\n    },\n    {\n      \"column\": \"price_initial (USD)\",\n      \"properties\": {\n        \"dtype\": \"number\",\n        \"std\": 178.39489149149736,\n        \"min\": 199.99,\n        \"max\": 999.98,\n        \"num_unique_values\": 6,\n        \"samples\": [\n          999.98,\n          299.99,\n          199.99\n        ],\n        \"semantic_type\": \"\",\n        \"description\": \"\"\n      }\n    },\n    {\n      \"column\": \"genres\",\n      \"properties\": {\n        \"dtype\": \"string\",\n        \"num_unique_values\": 11,\n        \"samples\": [\n          \"['Action', 'Adventure', 'Casual', 'Indie', 'Racing', 'RPG', 'Simulation', 'Sports', 'Strategy']\",\n          \"['Indie', 'Simulation']\",\n          \"['Action', 'Adventure', 'Casual', 'Indie', 'Simulation', 'Strategy']\"\n        ],\n        \"semantic_type\": \"\",\n        \"description\": \"\"\n      }\n    },\n    {\n      \"column\": \"total_reviews\",\n      \"properties\": {\n        \"dtype\": \"number\",\n        \"std\": 27,\n        \"min\": 0,\n        \"max\": 125,\n        \"num_unique_values\": 10,\n        \"samples\": [\n          10,\n          6,\n          9\n        ],\n        \"semantic_type\": \"\",\n        \"description\": \"\"\n      }\n    }\n  ]\n}"
            }
          },
          "metadata": {}
        }
      ]
    },
    {
      "cell_type": "markdown",
      "source": [
        "**Keep or Remove Outliers?**\n",
        "\n",
        "Now that we’ve identified outliers in game pricing, let’s evaluate whether keeping or removing them aligns with our project objectives."
      ],
      "metadata": {
        "id": "9hYZp2KGdjBB"
      }
    },
    {
      "cell_type": "markdown",
      "source": [
        "**Objective Check**\n",
        "  * **Key Drivers of Success:**\n",
        "     * If these high-priced games are legitimate and reviewed by players, they could provide insights into premium-priced games and their review trends.\n",
        "     * If they are bundles or misclassified DLCs, they may distort the analysis.\n",
        "  * **Pricing Analysis:**\n",
        "    * If we remove high-priced games, we may miss insights into the relationship between price and review scores at the higher end.\n",
        "    * Some games priced over $100 have reviews, while others have no reviews at all, making them less relevant for analysis.\n",
        "\n",
        "**Conclusion:**\n",
        "Delete games priced over $100 that have no reviews and keep high-priced games that have at least some reviews.\n"
      ],
      "metadata": {
        "id": "s2WVOS3wd8lQ"
      }
    },
    {
      "cell_type": "code",
      "source": [
        "# Ensure 'total_reviews' is numeric\n",
        "data['total_reviews'] = pd.to_numeric(data['total_reviews'], errors='coerce')\n",
        "\n",
        "# Filter games where price > 100 and total reviews == 0\n",
        "games_to_remove = data[(data['price_initial (USD)'] > 100) & (data['total_reviews'] == 0)]\n",
        "\n",
        "# Display how many games will be removed\n",
        "print(f\"Number of games removed: {len(games_to_remove)}\")\n",
        "\n",
        "# Remove them from the dataset\n",
        "data = data[~((data['price_initial (USD)'] > 100) & (data['total_reviews'] == 0))]\n",
        "\n",
        "# Display new dataset shape\n",
        "print(f\"New dataset shape after removal: {data.shape}\")"
      ],
      "metadata": {
        "colab": {
          "base_uri": "https://localhost:8080/"
        },
        "id": "HCqsXl6LiYES",
        "outputId": "1ebde93e-c0dc-4119-d791-ce2ede8cdedc"
      },
      "execution_count": 59,
      "outputs": [
        {
          "output_type": "stream",
          "name": "stdout",
          "text": [
            "Number of games removed: 41\n",
            "New dataset shape after removal: (71388, 21)\n"
          ]
        }
      ]
    },
    {
      "cell_type": "code",
      "source": [
        "# Clean the genre column: Remove unwanted characters such as '[', ']', and quotes\n",
        "data['genres'] = data['genres'].astype(str).str.replace(r\"[\\[\\]']\", '', regex=True).str.split(', ')\n",
        "\n",
        "# Explode the genre column to handle multi-genre games\n",
        "genre_data = data.explode('genres')\n",
        "\n",
        "# Group by genre and count the number of games per genre\n",
        "genre_counts = genre_data['genres'].value_counts()"
      ],
      "metadata": {
        "id": "qGO-h6BTqNV3"
      },
      "execution_count": 60,
      "outputs": []
    },
    {
      "cell_type": "markdown",
      "source": [
        "## **Exploratory Data Analysis (EDA)**"
      ],
      "metadata": {
        "id": "daFJ40rLkEm1"
      }
    },
    {
      "cell_type": "markdown",
      "source": [
        "##**Price Distribution Analysis**"
      ],
      "metadata": {
        "id": "GzEPQ_eClzCa"
      }
    },
    {
      "cell_type": "code",
      "source": [
        "# Plot histogram of game prices\n",
        "plt.figure(figsize=(8, 5))\n",
        "data['price_initial (USD)'].dropna().hist(bins=50, edgecolor='black')\n",
        "plt.title('Price Distribution of Games')\n",
        "plt.xlabel('Price Initial (USD)')\n",
        "plt.ylabel('# of Games')\n",
        "plt.show()"
      ],
      "metadata": {
        "colab": {
          "base_uri": "https://localhost:8080/",
          "height": 487
        },
        "id": "n7vWDyF_kHEa",
        "outputId": "51a3cf93-adff-4a87-e929-6d266f8a4f5a"
      },
      "execution_count": 61,
      "outputs": [
        {
          "output_type": "display_data",
          "data": {
            "text/plain": [
              "<Figure size 800x500 with 1 Axes>"
            ],
            "image/png": "[encoded data removed]"
          },
          "metadata": {}
        }
      ]
    },
    {
      "cell_type": "markdown",
      "source": [
        "**Observations:**\n",
        "\n",
        "  * Most games are priced below $20, with a significant number being free or very low-cost games.\n",
        "\n",
        "  * There is a sharp drop-off in the number of games priced higher than $60, reflecting the dominance of lower-cost games.\n",
        "\n",
        "  * Outliers (games priced above $100 with no reviews) were removed, leaving a more accurate representation of price distribution.\n",
        "\n",
        "**Implications:**\n",
        "\n",
        "  * The gaming market on Steam favors affordable or free-to-play games, which are more accessible to a larger audience.\n",
        "  * Premium-priced games are less common and may target a niche or loyal audience."
      ],
      "metadata": {
        "id": "fqo3-ONQlmhD"
      }
    },
    {
      "cell_type": "markdown",
      "source": [
        "## **Distribution of Total Reviews**"
      ],
      "metadata": {
        "id": "r4zchLe2mQex"
      }
    },
    {
      "cell_type": "code",
      "source": [
        "# Plot histogram of total reviews\n",
        "plt.figure(figsize=(8, 5))\n",
        "data['total_reviews'].dropna().hist(bins=50, edgecolor='black')\n",
        "plt.title('Distribution of Total Reviews')\n",
        "plt.xlabel('Number of Reviews')\n",
        "plt.ylabel('# of Games')\n",
        "plt.yscale('log')  # Log scale to handle large differences\n",
        "plt.show()"
      ],
      "metadata": {
        "colab": {
          "base_uri": "https://localhost:8080/",
          "height": 487
        },
        "id": "PuzQMNGpmTKc",
        "outputId": "6c3a32be-86a7-4308-a336-18d58308154e"
      },
      "execution_count": 62,
      "outputs": [
        {
          "output_type": "display_data",
          "data": {
            "text/plain": [
              "<Figure size 800x500 with 1 Axes>"
            ],
            "image/png": "[encoded data removed]"
          },
          "metadata": {}
        }
      ]
    },
    {
      "cell_type": "markdown",
      "source": [
        "**Observations:**\n",
        "* The distribution of total reviews is highly skewed, with the majority of games having few or no reviews.\n",
        "\n",
        "* A small subset of games has an exceptionally high number of reviews, indicating that a few highly popular games dominate player engagement.\n",
        "\n",
        "* Many games struggle to gain traction, with very low review counts.\n",
        "\n",
        "**Implications:**\n",
        "\n",
        "* This skewed distribution reflects the competitive nature of the gaming market, where only a handful of games achieve widespread popularity.\n",
        "* Further analysis of games with high reviews could uncover factors driving their success (e.g., pricing, genre)."
      ],
      "metadata": {
        "id": "B3QZq68RoEgj"
      }
    },
    {
      "cell_type": "markdown",
      "source": [
        "## **Most Popular Game Genres**"
      ],
      "metadata": {
        "id": "aaCiLo52oK0L"
      }
    },
    {
      "cell_type": "code",
      "source": [
        "# Plot the top 10 most common genres\n",
        "\n",
        "plt.figure(figsize=(10, 6))\n",
        "genre_counts.head(10).plot(kind='bar', color='skyblue', edgecolor='black')\n",
        "plt.title('Top 10 Most Popular Game Genres (Cleaned)')\n",
        "plt.xlabel('Genre')\n",
        "plt.ylabel('# of Games')\n",
        "plt.xticks(rotation=45)\n",
        "plt.show()"
      ],
      "metadata": {
        "colab": {
          "base_uri": "https://localhost:8080/",
          "height": 621
        },
        "id": "rYS-5df8oqYu",
        "outputId": "5ab46b91-6332-4f65-f743-bfb938597847"
      },
      "execution_count": 88,
      "outputs": [
        {
          "output_type": "display_data",
          "data": {
            "text/plain": [
              "<Figure size 1000x600 with 1 Axes>"
            ],
            "image/png": "[encoded data removed]"
          },
          "metadata": {}
        }
      ]
    },
    {
      "cell_type": "markdown",
      "source": [
        "**Observations:**\n",
        "\n",
        "* After splitting multi-genre entries into individual genres, the top genres include action, indie, casual, adventure, and simulation.\n",
        "\n",
        "* Indie games make up a significant portion of the dataset, reflecting the accessibility of Steam for independent developers.\n",
        "\n",
        "* Casual games stand out as a popular genre, likely due to their accessibility and appeal to a broad audience.\n",
        "\n",
        "* Multi-genre games are common, with games often blending elements from multiple categories.\n",
        "\n",
        "**Implications:**\n",
        "\n",
        "* Action, indie, casual, adventure, and simulation genres dominate player interest, aligning with trends in broad accessibility and ease of play.\n",
        "\n",
        "* Multi-genre games may appeal to broader audiences, making them potentially more successful."
      ],
      "metadata": {
        "id": "huSOXWuv6Uc_"
      }
    },
    {
      "cell_type": "markdown",
      "source": [
        "## **Relationship Between Price and Total Reviews**"
      ],
      "metadata": {
        "id": "1aGHlJ3y6CWT"
      }
    },
    {
      "cell_type": "code",
      "source": [
        "# Scatter plot of price_initial (USD) vs. total reviews\n",
        "plt.figure(figsize=(8, 5))\n",
        "sns.scatterplot(x=data['price_initial (USD)'], y=data['total_reviews'], alpha=0.5)\n",
        "plt.title('Price Initial (USD) vs. Total Reviews')\n",
        "plt.xlabel('Price Initial (USD)')\n",
        "plt.ylabel('Total Reivews')\n",
        "plt.yscale('log')  # Log scale to handle large differences\n",
        "plt.show()"
      ],
      "metadata": {
        "colab": {
          "base_uri": "https://localhost:8080/",
          "height": 487
        },
        "id": "wcWknYMN6IUQ",
        "outputId": "818b34e5-7bf1-4263-f730-1a130caf9e6d"
      },
      "execution_count": 64,
      "outputs": [
        {
          "output_type": "display_data",
          "data": {
            "text/plain": [
              "<Figure size 800x500 with 1 Axes>"
            ],
            "image/png": "[encoded data removed]"
          },
          "metadata": {}
        }
      ]
    },
    {
      "cell_type": "markdown",
      "source": [
        "**Observations:**\n",
        "\n",
        "* The scatterplot shows no strong linear relationship between price and total reviews.\n",
        "* Low-cost and free games dominate in terms of review count, while premium-priced games tend to have fewer reviews.\n",
        "* However, some premium-priced games still achieve significant review counts, likely due to strong brand reputation or quality.\n",
        "\n",
        "**Implications:**\n",
        "\n",
        "* Price is not the sole determinant of a game’s success. Factors like genre, marketing, and quality likely play a larger role.\n",
        "* Low-cost and free games have broader reach, attracting more reviews and player engagement."
      ],
      "metadata": {
        "id": "GB0_ayH46Qjc"
      }
    },
    {
      "cell_type": "markdown",
      "source": [
        "## **Most Popular Games by Total Reviews**"
      ],
      "metadata": {
        "id": "hmq9t7f89cc_"
      }
    },
    {
      "cell_type": "code",
      "source": [
        "# Sort games by total_reviews in descending order\n",
        "most_popular_games = data.sort_values(by='total_reviews', ascending=False).head(10)\n",
        "\n",
        "# Display the top 10 most popular games\n",
        "print(\"Top 10 Most Popular Games by Total Reviews:\")\n",
        "print(most_popular_games[['name', 'total_reviews', 'price_initial (USD)', 'genres', 'is_free']])\n",
        "\n",
        "# Plot the top 10 most popular games by total reviews\n",
        "\n",
        "plt.figure(figsize=(10, 6))\n",
        "plt.barh(most_popular_games['name'], most_popular_games['total_reviews'], color='skyblue', edgecolor='black')\n",
        "plt.title('Top 10 Most Popular Games by Total Reviews')\n",
        "plt.xlabel('Total Reviews')\n",
        "plt.ylabel('Game Title')\n",
        "plt.gca().invert_yaxis()  # Invert y-axis to display the most popular game at the top\n",
        "plt.show()"
      ],
      "metadata": {
        "colab": {
          "base_uri": "https://localhost:8080/",
          "height": 981
        },
        "id": "wf5HSCOU9faO",
        "outputId": "89c7f83b-425f-4391-c2fe-d9d182bb880a"
      },
      "execution_count": 65,
      "outputs": [
        {
          "output_type": "stream",
          "name": "stdout",
          "text": [
            "Top 10 Most Popular Games by Total Reviews:\n",
            "                                  name  total_reviews  price_initial (USD)  \\\n",
            "65008                 Counter-Strike 2        1279700                 0.00   \n",
            "41345  Tom Clancy's Rainbow Six® Siege         571834                19.99   \n",
            "63866               Grand Theft Auto V         551680                 0.00   \n",
            "26364                         Terraria         543537                 9.99   \n",
            "60099                    HELLDIVERS™ 2         543217                39.99   \n",
            "64587                             Rust         475673                39.99   \n",
            "64908                  Baldur's Gate 3         388098                59.99   \n",
            "63937                         Among Us         359516                 4.99   \n",
            "54234                   Stardew Valley         339059                14.99   \n",
            "68875                   Cyberpunk 2077         318186                59.99   \n",
            "\n",
            "                                                  genres  is_free  \n",
            "65008                             [Action, Free To Play]     True  \n",
            "41345                                           [Action]    False  \n",
            "63866                                [Action, Adventure]    False  \n",
            "26364                    [Action, Adventure, Indie, RPG]    False  \n",
            "60099                                           [Action]    False  \n",
            "64587  [Action, Adventure, Indie, Massively Multiplay...    False  \n",
            "64908                         [Adventure, RPG, Strategy]    False  \n",
            "63937                                           [Casual]    False  \n",
            "54234                           [Indie, RPG, Simulation]    False  \n",
            "68875                                              [RPG]    False  \n"
          ]
        },
        {
          "output_type": "display_data",
          "data": {
            "text/plain": [
              "<Figure size 1000x600 with 1 Axes>"
            ],
            "image/png": "[encoded data removed]"
          },
          "metadata": {}
        }
      ]
    },
    {
      "cell_type": "markdown",
      "source": [
        "**Observations:**\n",
        "* Counter-Strike 2 is the only free to play game.\n",
        "* Grand Theft Auto is listed as $0.00 but it is not free.\n",
        "\n",
        "  * This could indicate a pricing error in the dataset or a promotional event when the price was temporarily set to $0.00.\n",
        "\n",
        "  * Such inconsistencies should be addressed in the data cleaning step if they impact further analysis.\n",
        "\n",
        "* Action seems like the most sucessful genre\n",
        "\n",
        "**Implications:**\n",
        "* The success of Counter-Strike 2 demonstrates that free-to-play models can be highly effective for attracting players, especially for multiplayer or competitive games.\n",
        "* Inconsistencies in price (e.g., $0.00 for Grand Theft Auto) may need to be clarified to ensure accurate pricing analysis.\n",
        "* The dominance of action games aligns with broader trends in gaming, where high-adrenaline, multiplayer, and immersive gameplay tend to attract the most engagement."
      ],
      "metadata": {
        "id": "lj16tBjl-nxP"
      }
    },
    {
      "cell_type": "markdown",
      "source": [
        "## **Data Cleaning cont.**"
      ],
      "metadata": {
        "id": "0EUS4otRCyWs"
      }
    },
    {
      "cell_type": "code",
      "source": [
        "# Ensure price_initial (USD) is numeric\n",
        "data['price_initial (USD)'] = pd.to_numeric(data['price_initial (USD)'], errors='coerce')\n",
        "\n",
        "# Filter games with price $0.00\n",
        "games_zero_price = data[data['price_initial (USD)'] == 0]\n",
        "\n",
        "# Further filter games where is_free is False\n",
        "games_not_free = games_zero_price[games_zero_price['is_free'] == False]\n",
        "\n",
        "# Display the count and some examples of these games\n",
        "print(f\"Number of games listed as $0.00 but not free-to-play: {len(games_not_free)}\")\n",
        "print(\"\\nExamples of games listed as $0.00 but not free-to-play:\")\n",
        "print(games_not_free[['name', 'price_initial (USD)', 'is_free', 'genres']].head(10))"
      ],
      "metadata": {
        "colab": {
          "base_uri": "https://localhost:8080/"
        },
        "id": "OU5AFdaSBoya",
        "outputId": "43302c4a-b466-40b6-aec2-815e0a3a6e36"
      },
      "execution_count": 66,
      "outputs": [
        {
          "output_type": "stream",
          "name": "stdout",
          "text": [
            "Number of games listed as $0.00 but not free-to-play: 12893\n",
            "\n",
            "Examples of games listed as $0.00 but not free-to-play:\n",
            "                       name  price_initial (USD)  is_free  \\\n",
            "1             Light No Fire                  0.0    False   \n",
            "5    The Milgram Experiment                  0.0    False   \n",
            "6       5 Bucks for the Bus                  0.0    False   \n",
            "9            Zero Caliber 2                  0.0    False   \n",
            "10               Star Birds                  0.0    False   \n",
            "11  CLIMB UP! Battle Royale                  0.0    False   \n",
            "15     Super Spelling Ducks                  0.0    False   \n",
            "23             Neon Goddess                  0.0    False   \n",
            "35                   Return                  0.0    False   \n",
            "37         Spirits of Baciu                  0.0    False   \n",
            "\n",
            "                                               genres  \n",
            "1                                 [Action, Adventure]  \n",
            "5                                         [Adventure]  \n",
            "6                                        [Indie, RPG]  \n",
            "9                                            [Action]  \n",
            "10              [Casual, Indie, Simulation, Strategy]  \n",
            "11  [Action, Adventure, Casual, Indie, Massively M...  \n",
            "15                                            [Indie]  \n",
            "23                         [Action, Adventure, Indie]  \n",
            "35                         [Action, Adventure, Indie]  \n",
            "37                                 [Adventure, Indie]  \n"
          ]
        }
      ]
    },
    {
      "cell_type": "code",
      "source": [
        "# Create a flag for games listed as $0.00 but not free-to-play\n",
        "data['is_flagged_price_issue'] = (data['price_initial (USD)'] == 0) & (data['is_free'] == False)\n",
        "\n",
        "# Count the flagged games\n",
        "print(f\"Number of flagged games with pricing inconsistencies: {data['is_flagged_price_issue'].sum()}\")\n",
        "\n",
        "# Display examples of flagged games\n",
        "print(\"\\nExamples of flagged games:\")\n",
        "print(data[data['is_flagged_price_issue'] == True][['name', 'price_initial (USD)', 'is_free', 'genres']].head(10))"
      ],
      "metadata": {
        "colab": {
          "base_uri": "https://localhost:8080/"
        },
        "id": "8MN_WAmFDDK-",
        "outputId": "e3931cdf-6dbd-4cc1-af7d-96f6c6db0fab"
      },
      "execution_count": 67,
      "outputs": [
        {
          "output_type": "stream",
          "name": "stdout",
          "text": [
            "Number of flagged games with pricing inconsistencies: 12893\n",
            "\n",
            "Examples of flagged games:\n",
            "                       name  price_initial (USD)  is_free  \\\n",
            "1             Light No Fire                  0.0    False   \n",
            "5    The Milgram Experiment                  0.0    False   \n",
            "6       5 Bucks for the Bus                  0.0    False   \n",
            "9            Zero Caliber 2                  0.0    False   \n",
            "10               Star Birds                  0.0    False   \n",
            "11  CLIMB UP! Battle Royale                  0.0    False   \n",
            "15     Super Spelling Ducks                  0.0    False   \n",
            "23             Neon Goddess                  0.0    False   \n",
            "35                   Return                  0.0    False   \n",
            "37         Spirits of Baciu                  0.0    False   \n",
            "\n",
            "                                               genres  \n",
            "1                                 [Action, Adventure]  \n",
            "5                                         [Adventure]  \n",
            "6                                        [Indie, RPG]  \n",
            "9                                            [Action]  \n",
            "10              [Casual, Indie, Simulation, Strategy]  \n",
            "11  [Action, Adventure, Casual, Indie, Massively M...  \n",
            "15                                            [Indie]  \n",
            "23                         [Action, Adventure, Indie]  \n",
            "35                         [Action, Adventure, Indie]  \n",
            "37                                 [Adventure, Indie]  \n"
          ]
        }
      ]
    },
    {
      "cell_type": "markdown",
      "source": [
        "# **Hypothesis Testing**"
      ],
      "metadata": {
        "id": "W4TJ6yORIbR0"
      }
    },
    {
      "cell_type": "markdown",
      "source": [
        "## **Hypotheses Recap**"
      ],
      "metadata": {
        "id": "s-1LrgVaIdkg"
      }
    },
    {
      "cell_type": "markdown",
      "source": [
        "1. **Price vs. Success:**\n",
        "\n",
        "  * Null Hypothesis (H₀): There is no relationship between the initial price of a game (price_initial (USD)) and its review score (e.g., average reviews, total reviews).\n",
        "\n",
        "  * Alternative Hypothesis (H₁): There is a significant relationship between the initial price of a game (price_initial (USD)) and its review score.\n",
        "\n",
        "2. **Genre vs. Success:**\n",
        "\n",
        "  * Null Hypothesis (H₀): The genre of a game does not significantly impact its average review score.\n",
        "\n",
        "  * Alternative Hypothesis (H₁): The genre of a game significantly impacts its average review score."
      ],
      "metadata": {
        "id": "fDcOmm8OIitM"
      }
    },
    {
      "cell_type": "markdown",
      "source": [
        "## **Analysis Plan**"
      ],
      "metadata": {
        "id": "o5LXVl7eI1dX"
      }
    },
    {
      "cell_type": "markdown",
      "source": [
        "1. **Price vs. Total Reviews:**\n",
        "\n",
        "  * Test if price correlates with the number of total reviews using correlation analysis.\n",
        "\n",
        "2. **Genre vs. Average Reviews:**\n",
        "\n",
        "  * Use ANOVA (Analysis of Variance) to determine if average review scores differ significantly across genres."
      ],
      "metadata": {
        "id": "EzAuSwf6I4ra"
      }
    },
    {
      "cell_type": "code",
      "source": [
        "# Correlation test between price and total reviews\n",
        "price_reviews_corr, p_value = stats.pearsonr(data['price_initial (USD)'], data['total_reviews'])\n",
        "\n",
        "# Print the results\n",
        "print(f\"Correlation between price and total reviews: {price_reviews_corr:.2f}\")\n",
        "print(f\"P-value: {p_value:.5f}\")\n",
        "\n",
        "# Interpretation\n",
        "if p_value < 0.05:\n",
        "    print(\"Conclusion: There is a statistically significant relationship between price and total reviews.\")\n",
        "else:\n",
        "    print(\"Conclusion: There is no statistically significant relationship between price and total reviews.\")"
      ],
      "metadata": {
        "colab": {
          "base_uri": "https://localhost:8080/"
        },
        "id": "-yyaglysJEHw",
        "outputId": "0177c10a-7d0f-4bcb-8dc5-70a628c8ed1a"
      },
      "execution_count": 69,
      "outputs": [
        {
          "output_type": "stream",
          "name": "stdout",
          "text": [
            "Correlation between price and total reviews: 0.07\n",
            "P-value: 0.00000\n",
            "Conclusion: There is a statistically significant relationship between price and total reviews.\n"
          ]
        }
      ]
    },
    {
      "cell_type": "markdown",
      "source": [
        "**Null Hypothesis (H₀):** There is no relationship between the price of a game and its review count.\n",
        "\n",
        "**Results:**\n",
        "* Correlation Coefficient: 0.07 (weak positive correlation)\n",
        "* P-value: 0.00000 (statistically significant)\n",
        "\n",
        "**Conclusion:**\n",
        "* Although the relationship is statistically significant, the correlation is very weak (0.07), meaning price has little practical effect on review count.\n",
        "* Decision: Reject the null hypothesis due to statistical significance, but note that the relationship is weak and likely not impactful."
      ],
      "metadata": {
        "id": "5TilC-1nJVkE"
      }
    },
    {
      "cell_type": "code",
      "source": [
        "# Calculate average review score (if total_reviews > 0 to avoid division by zero)\n",
        "data['average_review_score'] = data.apply(\n",
        "    lambda row: row['total_positive'] / row['total_reviews'] if row['total_reviews'] > 0 else None, axis=1\n",
        ")\n",
        "\n",
        "# Drop rows where average review score is NaN\n",
        "data_cleaned = data.dropna(subset=['average_review_score'])\n",
        "\n",
        "# Fix the 'genres' column to avoid SettingWithCopyWarning\n",
        "data_cleaned.loc[:, 'genres'] = data_cleaned['genres'].astype(str)\n",
        "\n",
        "# Prepare data for ANOVA\n",
        "genre_groups = data_cleaned[['genres', 'average_review_score']].groupby('genres')['average_review_score']\n",
        "\n",
        "# Perform ANOVA\n",
        "f_stat, p_value = stats.f_oneway(*[group for name, group in genre_groups])\n",
        "\n",
        "# Print the results\n",
        "print(f\"ANOVA F-Statistic: {f_stat:.2f}\")\n",
        "print(f\"P-value: {p_value:.5f}\")\n",
        "\n",
        "# Interpretation\n",
        "if p_value < 0.05:\n",
        "    print(\"Conclusion: There is a statistically significant difference in average review scores across genres.\")\n",
        "else:\n",
        "    print(\"Conclusion: There is no statistically significant difference in average review scores across genres.\")"
      ],
      "metadata": {
        "colab": {
          "base_uri": "https://localhost:8080/"
        },
        "id": "aGGzWLquJV_P",
        "outputId": "4f878835-d340-41de-a990-72fef64c2aa9"
      },
      "execution_count": 78,
      "outputs": [
        {
          "output_type": "stream",
          "name": "stdout",
          "text": [
            "ANOVA F-Statistic: 1.95\n",
            "P-value: 0.00000\n",
            "Conclusion: There is a statistically significant difference in average review scores across genres.\n"
          ]
        }
      ]
    },
    {
      "cell_type": "markdown",
      "source": [
        "**Null Hypothesis (H₀):** There is no significant difference in average review scores across genres.\n",
        "\n",
        "**Results:**\n",
        "* F-Statistic: 1.95\n",
        "* P-value: 0.00000 (statistically significant)\n",
        "\n",
        "**Conclusion:**\n",
        "* There is a statistically significant difference in average review scores across genres.\n",
        "* Decision: Reject the null hypothesis, meaning that genre does influence review scores, and some genres perform better than others."
      ],
      "metadata": {
        "id": "8MR3Y005N-sW"
      }
    },
    {
      "cell_type": "markdown",
      "source": [
        "# **Results & Insights**\n",
        "\n"
      ],
      "metadata": {
        "id": "br5J3hY8Vn72"
      }
    },
    {
      "cell_type": "markdown",
      "source": [
        "**Hypothesis 1: Price vs. Success**\n",
        "* **Finding:**\n",
        "    * The correlation between price and total reviews is statistically significant but weak (r = 0.07, p < 0.05).\n",
        "    * This indicates that while price has a small effect on review counts, it is not a strong driver of success.\n",
        "\n",
        "* **Implication:**\n",
        "  * Price is not a major factor influencing engagement, and developers may focus on other factors like quality, marketing, or genre appeal to drive player engagement.\n",
        "\n",
        "**Hypothesis 2: Genre vs. Success**\n",
        "* **Finding:**\n",
        "  * There is a statistically significant difference in average review scores across genres (F = 1.95, p < 0.05).\n",
        "  * Certain genres (e.g., Casual, Indie, and Action) are likely to have different player reception.\n",
        "\n",
        "* **Implication:**\n",
        "  * Genre plays an important role in determining player satisfaction, and developers targeting high-performing genres may benefit from greater player engagement.\n",
        "\n",
        "**Flagged Pricing Issues**\n",
        "* **Finding:**\n",
        "  * A small number of games are listed as `$0.00` but are not flagged as free-to-play.\n",
        "  * These games were flagged for reference in the dataset but retained for analysis.\n",
        "* **Implication:**\n",
        "  * Pricing inconsistencies may exist due to temporary promotions, errors, or misclassification in the dataset. These should be considered carefully in future pricing analyses."
      ],
      "metadata": {
        "id": "2tM13-pLVvyu"
      }
    },
    {
      "cell_type": "markdown",
      "source": [
        "# **Recommend Actions**"
      ],
      "metadata": {
        "id": "f0qE_4TmXF4U"
      }
    },
    {
      "cell_type": "markdown",
      "source": [
        "**Key Finding:** There is a significant difference in review scores across genres, with genres like Casual, Indie, and Action showing strong player engagement and satisfaction.\n",
        "\n",
        "**Recommendation:**\n",
        "* For new game development or publishing, prioritize these high-performing genres to increase the likelihood of success.\n",
        "* Invest in sub-genres that blend Casual and Indie elements, which tend to attract a broad audience."
      ],
      "metadata": {
        "id": "goIj_dIpXJPw"
      }
    }
  ]
}